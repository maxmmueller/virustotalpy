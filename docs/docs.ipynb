{
 "cells": [
  {
   "cell_type": "markdown",
   "metadata": {},
   "source": [
    "# VirusTotalPy Documetation\n",
    "\n",
    "<img src=\"https://img.shields.io/pypi/v/virustotalpy.svg?style=square\">\n",
    "\n",
    "To upload your files to the VirusTotal, you first need to initialize the `Virustotal` class.\n",
    "It takes just one argument which is your VirusTotal API key. \n",
    "\n",
    "The only relevant function is `api_request()`. You have to pass only two arguments:\n",
    "\n",
    "1. `method`\n",
    "\n",
    "    Specifies the request method. Use 'post' to upload something and 'get' to get the result. If you want to analyze an IP address, you don't have to use 'post'.\n",
    "\n",
    "2. `path`, `url`, `ip` or `hahs`\n",
    "\n",
    "    The second argument is the type of resource. So either a file path, an url, a ip, (or the file hash). \n",
    "\n",
    "\n",
    "\n",
    "Example - analyze file:\n",
    "\n",
    "```python\n",
    "    vt = Virustotal('API_KEY')\n",
    "\n",
    "    vt.api_request('post', file='hello_world.txt')\n",
    "\n",
    "    result = vt.api_request('get', file=path)\n",
    "```\n",
    "\n",
    "- [more examples](https://github.com/maxmmueller/virustotalpy/blob/main/docs/example.py)"
   ]
  }
 ],
 "metadata": {
  "language_info": {
   "name": "python"
  },
  "orig_nbformat": 4
 },
 "nbformat": 4,
 "nbformat_minor": 2
}
